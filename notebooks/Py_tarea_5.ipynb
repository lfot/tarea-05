{
 "cells": [
  {
   "cell_type": "code",
   "execution_count": 4,
   "id": "52893b4e-35b0-4ecf-94ee-7bdc405e4706",
   "metadata": {},
   "outputs": [
    {
     "name": "stdout",
     "output_type": "stream",
     "text": [
      "Requirement already satisfied: pandas in c:\\users\\usuario\\anaconda3\\lib\\site-packages (2.2.2)\n",
      "Requirement already satisfied: numpy>=1.23.2 in c:\\users\\usuario\\anaconda3\\lib\\site-packages (from pandas) (1.26.4)\n",
      "Requirement already satisfied: python-dateutil>=2.8.2 in c:\\users\\usuario\\anaconda3\\lib\\site-packages (from pandas) (2.9.0.post0)\n",
      "Requirement already satisfied: pytz>=2020.1 in c:\\users\\usuario\\anaconda3\\lib\\site-packages (from pandas) (2024.1)\n",
      "Requirement already satisfied: tzdata>=2022.7 in c:\\users\\usuario\\anaconda3\\lib\\site-packages (from pandas) (2023.3)\n",
      "Requirement already satisfied: six>=1.5 in c:\\users\\usuario\\anaconda3\\lib\\site-packages (from python-dateutil>=2.8.2->pandas) (1.16.0)\n"
     ]
    }
   ],
   "source": [
    "!pip install pandas"
   ]
  },
  {
   "cell_type": "code",
   "execution_count": 11,
   "id": "642950f0-880f-42ee-8a4e-22d5ab20805e",
   "metadata": {},
   "outputs": [
    {
     "name": "stdout",
     "output_type": "stream",
     "text": [
      "   sepal length  sepal width  petal length  petal width        class\n",
      "0           5.1          3.5           1.4          0.2  Iris-setosa\n",
      "1           4.9          3.0           1.4          0.2  Iris-setosa\n",
      "2           4.7          3.2           1.3          0.2  Iris-setosa\n",
      "3           4.6          3.1           1.5          0.2  Iris-setosa\n",
      "4           5.0          3.6           1.4          0.2  Iris-setosa\n"
     ]
    }
   ],
   "source": [
    "import pandas as pd\n",
    "\n",
    "url = \"https://raw.githubusercontent.com/plotly/datasets/master/iris-data.csv\"\n",
    "df_iris = pd.read_csv(url)\n",
    "\n",
    "print(df_iris.head()) "
   ]
  },
  {
   "cell_type": "markdown",
   "id": "59e06450-b6ee-4170-ab80-14d58c8c14fc",
   "metadata": {},
   "source": [
    "## Qué columnas tiene el dataset y que representan.\r\n",
    "El dataset contiene 5 variables, además del número de casso. En ellas están ciertos atributos de de tres tipos de flores de la misma familia (setosa, virginica y versicolor), particularmente de los largos y anchos se sus sépalos y pétalos .\n"
   ]
  },
  {
   "cell_type": "code",
   "execution_count": 13,
   "id": "5f97e840-53a1-4599-baa7-49daa724869f",
   "metadata": {},
   "outputs": [
    {
     "name": "stdout",
     "output_type": "stream",
     "text": [
      "sepal length    0\n",
      "sepal width     0\n",
      "petal length    0\n",
      "petal width     0\n",
      "class           0\n",
      "dtype: int64\n"
     ]
    }
   ],
   "source": [
    "# Verificar la existencia (o no) de eventuales valores nulos.\n",
    "\n",
    "nulos = df_iris.isnull().sum()\n",
    "\n",
    "print(nulos)"
   ]
  },
  {
   "cell_type": "markdown",
   "id": "6862f358-e359-45d4-8767-91b979321b7a",
   "metadata": {},
   "source": [
    "No se observan valores nulos."
   ]
  },
  {
   "cell_type": "code",
   "execution_count": 14,
   "id": "ac8d8464-bc07-4bf9-9dc7-a8fdb7254fe6",
   "metadata": {},
   "outputs": [
    {
     "name": "stdout",
     "output_type": "stream",
     "text": [
      "Estadísticas descriptivas de las columnas numéricas:\n",
      "       sepal length  sepal width  petal length  petal width\n",
      "count    150.000000   150.000000    150.000000   150.000000\n",
      "mean       5.843333     3.054000      3.758667     1.198667\n",
      "std        0.828066     0.433594      1.764420     0.763161\n",
      "min        4.300000     2.000000      1.000000     0.100000\n",
      "25%        5.100000     2.800000      1.600000     0.300000\n",
      "50%        5.800000     3.000000      4.350000     1.300000\n",
      "75%        6.400000     3.300000      5.100000     1.800000\n",
      "max        7.900000     4.400000      6.900000     2.500000\n"
     ]
    }
   ],
   "source": [
    "# Estadísticas descriptivas para cada variable (columna) numérica.\n",
    "\n",
    "descritivos_col_numericas = df_iris.describe()\n",
    "\n",
    "print(\"Estadísticas descriptivas de las columnas numéricas:\")\n",
    "\n",
    "print(descritivos_col_numericas)"
   ]
  },
  {
   "cell_type": "code",
   "execution_count": 17,
   "id": "bb5d4117-dd60-4b35-902a-ec503cbd306e",
   "metadata": {},
   "outputs": [
    {
     "name": "stdout",
     "output_type": "stream",
     "text": [
      "Para cada clase de flor, existen los siguientes número de filas (casos):\n",
      "class\n",
      "Iris-setosa        50\n",
      "Iris-versicolor    50\n",
      "Iris-virginica     50\n",
      "Name: count, dtype: int64\n"
     ]
    }
   ],
   "source": [
    "# Cuántas filas existen para cada clase de flor. \n",
    "n_clases = df_iris['class'].value_counts()\n",
    "\n",
    "print(\"Para cada clase de flor, existen los siguientes número de filas (casos):\")\n",
    "print(n_clases)"
   ]
  },
  {
   "cell_type": "code",
   "execution_count": null,
   "id": "7588241b-282e-42c2-a960-bf0c4f3eebe7",
   "metadata": {},
   "outputs": [],
   "source": []
  }
 ],
 "metadata": {
  "kernelspec": {
   "display_name": "pyds_proyecto_final (Python 3.12)",
   "language": "python",
   "name": "pyds_proyecto_final"
  },
  "language_info": {
   "codemirror_mode": {
    "name": "ipython",
    "version": 3
   },
   "file_extension": ".py",
   "mimetype": "text/x-python",
   "name": "python",
   "nbconvert_exporter": "python",
   "pygments_lexer": "ipython3",
   "version": "3.12.4"
  }
 },
 "nbformat": 4,
 "nbformat_minor": 5
}
